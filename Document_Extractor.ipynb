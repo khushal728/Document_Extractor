{
 "cells": [
  {
   "cell_type": "code",
   "execution_count": 2,
   "id": "fa92458b-8533-43c0-b4d1-8ff1196b9fd4",
   "metadata": {},
   "outputs": [
    {
     "name": "stdout",
     "output_type": "stream",
     "text": [
      "Note: you may need to restart the kernel to use updated packages.\n"
     ]
    },
    {
     "name": "stderr",
     "output_type": "stream",
     "text": [
      "ERROR: Could not find a version that satisfies the requirement json (from versions: none)\n",
      "ERROR: No matching distribution found for json\n"
     ]
    }
   ],
   "source": [
    "pip install json"
   ]
  },
  {
   "cell_type": "code",
   "execution_count": 8,
   "id": "bca7b3d2-6de3-4360-a5e9-723315ee4470",
   "metadata": {},
   "outputs": [],
   "source": [
    "import json\n",
    "import pdfplumber\n",
    "from PyPDF2 import PdfReader\n",
    "\n"
   ]
  },
  {
   "cell_type": "code",
   "execution_count": 5,
   "id": "a7fe923d-2e5b-4172-b85a-45130a8d70b0",
   "metadata": {},
   "outputs": [
    {
     "name": "stdout",
     "output_type": "stream",
     "text": [
      "Collecting pdfplumber\n",
      "  Downloading pdfplumber-0.11.4-py3-none-any.whl.metadata (41 kB)\n",
      "Collecting pdfminer.six==20231228 (from pdfplumber)\n",
      "  Downloading pdfminer.six-20231228-py3-none-any.whl.metadata (4.2 kB)\n",
      "Requirement already satisfied: Pillow>=9.1 in c:\\users\\khush\\appdata\\local\\programs\\python\\python312\\lib\\site-packages (from pdfplumber) (10.4.0)\n",
      "Collecting pypdfium2>=4.18.0 (from pdfplumber)\n",
      "  Downloading pypdfium2-4.30.0-py3-none-win_amd64.whl.metadata (48 kB)\n",
      "Requirement already satisfied: charset-normalizer>=2.0.0 in c:\\users\\khush\\appdata\\local\\programs\\python\\python312\\lib\\site-packages (from pdfminer.six==20231228->pdfplumber) (3.3.2)\n",
      "Collecting cryptography>=36.0.0 (from pdfminer.six==20231228->pdfplumber)\n",
      "  Downloading cryptography-43.0.3-cp39-abi3-win_amd64.whl.metadata (5.4 kB)\n",
      "Requirement already satisfied: cffi>=1.12 in c:\\users\\khush\\appdata\\local\\programs\\python\\python312\\lib\\site-packages (from cryptography>=36.0.0->pdfminer.six==20231228->pdfplumber) (1.16.0)\n",
      "Requirement already satisfied: pycparser in c:\\users\\khush\\appdata\\local\\programs\\python\\python312\\lib\\site-packages (from cffi>=1.12->cryptography>=36.0.0->pdfminer.six==20231228->pdfplumber) (2.21)\n",
      "Downloading pdfplumber-0.11.4-py3-none-any.whl (59 kB)\n",
      "Downloading pdfminer.six-20231228-py3-none-any.whl (5.6 MB)\n",
      "   ---------------------------------------- 0.0/5.6 MB ? eta -:--:--\n",
      "   ---------------------------------------- 0.0/5.6 MB ? eta -:--:--\n",
      "   - -------------------------------------- 0.3/5.6 MB ? eta -:--:--\n",
      "   --- ------------------------------------ 0.5/5.6 MB 985.5 kB/s eta 0:00:06\n",
      "   --- ------------------------------------ 0.5/5.6 MB 985.5 kB/s eta 0:00:06\n",
      "   ----- ---------------------------------- 0.8/5.6 MB 882.6 kB/s eta 0:00:06\n",
      "   ----- ---------------------------------- 0.8/5.6 MB 882.6 kB/s eta 0:00:06\n",
      "   ------- -------------------------------- 1.0/5.6 MB 838.4 kB/s eta 0:00:06\n",
      "   --------- ------------------------------ 1.3/5.6 MB 817.9 kB/s eta 0:00:06\n",
      "   --------- ------------------------------ 1.3/5.6 MB 817.9 kB/s eta 0:00:06\n",
      "   ----------- ---------------------------- 1.6/5.6 MB 783.9 kB/s eta 0:00:06\n",
      "   ----------- ---------------------------- 1.6/5.6 MB 783.9 kB/s eta 0:00:06\n",
      "   ------------- -------------------------- 1.8/5.6 MB 786.4 kB/s eta 0:00:05\n",
      "   -------------- ------------------------- 2.1/5.6 MB 793.3 kB/s eta 0:00:05\n",
      "   ---------------- ----------------------- 2.4/5.6 MB 808.5 kB/s eta 0:00:05\n",
      "   ---------------- ----------------------- 2.4/5.6 MB 808.5 kB/s eta 0:00:05\n",
      "   ------------------ --------------------- 2.6/5.6 MB 811.6 kB/s eta 0:00:04\n",
      "   -------------------- ------------------- 2.9/5.6 MB 822.3 kB/s eta 0:00:04\n",
      "   -------------------- ------------------- 2.9/5.6 MB 822.3 kB/s eta 0:00:04\n",
      "   ---------------------- ----------------- 3.1/5.6 MB 820.1 kB/s eta 0:00:04\n",
      "   ------------------------ --------------- 3.4/5.6 MB 818.3 kB/s eta 0:00:03\n",
      "   ------------------------ --------------- 3.4/5.6 MB 818.3 kB/s eta 0:00:03\n",
      "   -------------------------- ------------- 3.7/5.6 MB 823.0 kB/s eta 0:00:03\n",
      "   ---------------------------- ----------- 3.9/5.6 MB 824.0 kB/s eta 0:00:03\n",
      "   ---------------------------- ----------- 3.9/5.6 MB 824.0 kB/s eta 0:00:03\n",
      "   ----------------------------- ---------- 4.2/5.6 MB 830.4 kB/s eta 0:00:02\n",
      "   ------------------------------- -------- 4.5/5.6 MB 828.4 kB/s eta 0:00:02\n",
      "   --------------------------------- ------ 4.7/5.6 MB 846.3 kB/s eta 0:00:02\n",
      "   ----------------------------------- ---- 5.0/5.6 MB 857.9 kB/s eta 0:00:01\n",
      "   ----------------------------------- ---- 5.0/5.6 MB 857.9 kB/s eta 0:00:01\n",
      "   ------------------------------------- -- 5.2/5.6 MB 856.8 kB/s eta 0:00:01\n",
      "   ---------------------------------------  5.5/5.6 MB 858.1 kB/s eta 0:00:01\n",
      "   ---------------------------------------- 5.6/5.6 MB 860.6 kB/s eta 0:00:00\n",
      "Downloading pypdfium2-4.30.0-py3-none-win_amd64.whl (2.9 MB)\n",
      "   ---------------------------------------- 0.0/2.9 MB ? eta -:--:--\n",
      "   ---------------------------------------- 0.0/2.9 MB ? eta -:--:--\n",
      "   --- ------------------------------------ 0.3/2.9 MB ? eta -:--:--\n",
      "   ------- -------------------------------- 0.5/2.9 MB 1.2 MB/s eta 0:00:02\n",
      "   ---------- ----------------------------- 0.8/2.9 MB 1.2 MB/s eta 0:00:02\n",
      "   -------------- ------------------------- 1.0/2.9 MB 1.1 MB/s eta 0:00:02\n",
      "   ------------------ --------------------- 1.3/2.9 MB 1.1 MB/s eta 0:00:02\n",
      "   ------------------ --------------------- 1.3/2.9 MB 1.1 MB/s eta 0:00:02\n",
      "   --------------------- ------------------ 1.6/2.9 MB 1.0 MB/s eta 0:00:02\n",
      "   ------------------------- -------------- 1.8/2.9 MB 1.1 MB/s eta 0:00:01\n",
      "   ----------------------------- ---------- 2.1/2.9 MB 995.1 kB/s eta 0:00:01\n",
      "   ----------------------------- ---------- 2.1/2.9 MB 995.1 kB/s eta 0:00:01\n",
      "   -------------------------------- ------- 2.4/2.9 MB 938.3 kB/s eta 0:00:01\n",
      "   -------------------------------- ------- 2.4/2.9 MB 938.3 kB/s eta 0:00:01\n",
      "   ------------------------------------ --- 2.6/2.9 MB 915.2 kB/s eta 0:00:01\n",
      "   ------------------------------------ --- 2.6/2.9 MB 915.2 kB/s eta 0:00:01\n",
      "   ---------------------------------------- 2.9/2.9 MB 895.2 kB/s eta 0:00:00\n",
      "Downloading cryptography-43.0.3-cp39-abi3-win_amd64.whl (3.1 MB)\n",
      "   ---------------------------------------- 0.0/3.1 MB ? eta -:--:--\n",
      "   ---------------------------------------- 0.0/3.1 MB ? eta -:--:--\n",
      "   --- ------------------------------------ 0.3/3.1 MB ? eta -:--:--\n",
      "   ------ --------------------------------- 0.5/3.1 MB 837.5 kB/s eta 0:00:04\n",
      "   ---------- ----------------------------- 0.8/3.1 MB 958.5 kB/s eta 0:00:03\n",
      "   ---------- ----------------------------- 0.8/3.1 MB 958.5 kB/s eta 0:00:03\n",
      "   ------------- -------------------------- 1.0/3.1 MB 1.0 MB/s eta 0:00:03\n",
      "   ----------------- ---------------------- 1.3/3.1 MB 1.1 MB/s eta 0:00:02\n",
      "   -------------------- ------------------- 1.6/3.1 MB 1.0 MB/s eta 0:00:02\n",
      "   ----------------------- ---------------- 1.8/3.1 MB 1.0 MB/s eta 0:00:02\n",
      "   ----------------------- ---------------- 1.8/3.1 MB 1.0 MB/s eta 0:00:02\n",
      "   --------------------------- ------------ 2.1/3.1 MB 1.0 MB/s eta 0:00:01\n",
      "   ------------------------------ --------- 2.4/3.1 MB 1.0 MB/s eta 0:00:01\n",
      "   ---------------------------------- ----- 2.6/3.1 MB 980.6 kB/s eta 0:00:01\n",
      "   ---------------------------------- ----- 2.6/3.1 MB 980.6 kB/s eta 0:00:01\n",
      "   ------------------------------------- -- 2.9/3.1 MB 975.2 kB/s eta 0:00:01\n",
      "   ---------------------------------------- 3.1/3.1 MB 976.0 kB/s eta 0:00:00\n",
      "Installing collected packages: pypdfium2, cryptography, pdfminer.six, pdfplumber\n",
      "Successfully installed cryptography-43.0.3 pdfminer.six-20231228 pdfplumber-0.11.4 pypdfium2-4.30.0\n",
      "Note: you may need to restart the kernel to use updated packages.\n"
     ]
    }
   ],
   "source": [
    "pip install pdfplumber"
   ]
  },
  {
   "cell_type": "code",
   "execution_count": 7,
   "id": "fca70696-1db7-4c5d-87cf-686eda84527d",
   "metadata": {},
   "outputs": [
    {
     "name": "stdout",
     "output_type": "stream",
     "text": [
      "Collecting pyPDF2\n",
      "  Downloading pypdf2-3.0.1-py3-none-any.whl.metadata (6.8 kB)\n",
      "Downloading pypdf2-3.0.1-py3-none-any.whl (232 kB)\n",
      "Installing collected packages: pyPDF2\n",
      "Successfully installed pyPDF2-3.0.1\n",
      "Note: you may need to restart the kernel to use updated packages.\n"
     ]
    }
   ],
   "source": [
    "pip install pyPDF2"
   ]
  },
  {
   "cell_type": "code",
   "execution_count": 18,
   "id": "f9b7f8fa-f127-4dba-a707-97851e3133c4",
   "metadata": {},
   "outputs": [],
   "source": [
    "pdf_path = \"DocumentExtraction1.pdf\""
   ]
  },
  {
   "cell_type": "code",
   "execution_count": 25,
   "id": "3a276ef8-8556-4b6c-a2f2-28a6433f6588",
   "metadata": {},
   "outputs": [
    {
     "name": "stdin",
     "output_type": "stream",
     "text": [
      "Enter the PDF file path:  Document Extraction 1.pdf\n"
     ]
    },
    {
     "name": "stdout",
     "output_type": "stream",
     "text": [
      "JSON file saved as output.json\n"
     ]
    }
   ],
   "source": [
    "def extract_pdf_text(pdf_path):\n",
    "    text = \"\"\n",
    "    with pdfplumber.open(pdf_path) as pdf:\n",
    "        for page in pdf.pages:\n",
    "            text += page.extract_text()\n",
    "    return text\n",
    "\n",
    "def extract_pdf_tables(pdf_path):\n",
    "    tables = []\n",
    "    with pdfplumber.open(pdf_path) as pdf:\n",
    "        for page in pdf.pages:\n",
    "            for table in page.extract_tables():\n",
    "                tables.append(table)\n",
    "    return tables\n",
    "\n",
    "def extract_pdf_headers(pdf_path):\n",
    "    headers = {}\n",
    "    reader = PdfReader(pdf_path)\n",
    "    for page_num in range(len(reader.pages)):\n",
    "        page = reader.pages[page_num]\n",
    "        headers[f\"Page {page_num+1}\"] = page.extract_text().split('\\n')[:5]\n",
    "    return headers\n",
    "\n",
    "def main(pdf_path):\n",
    "    text = extract_pdf_text(pdf_path)\n",
    "    tables = extract_pdf_tables(pdf_path)\n",
    "    headers = extract_pdf_headers(pdf_path)\n",
    "\n",
    "    data = {\n",
    "        \"text\": text,\n",
    "        \"headers\": headers,\n",
    "        \"List_items\": tables\n",
    "    }\n",
    "\n",
    "    with open('output.json', 'w') as f:\n",
    "        json.dump(data, f, indent=4)\n",
    "\n",
    "    print(\"JSON file saved as output.json\")\n",
    "\n",
    "if __name__ == \"__main__\":\n",
    "    pdf_path = input(\"Enter the PDF file path: \")\n",
    "    main(pdf_path)\n"
   ]
  },
  {
   "cell_type": "code",
   "execution_count": null,
   "id": "16ebb5dd-c655-41c4-8259-f060e2d01108",
   "metadata": {},
   "outputs": [],
   "source": []
  }
 ],
 "metadata": {
  "kernelspec": {
   "display_name": "Python 3 (ipykernel)",
   "language": "python",
   "name": "python3"
  },
  "language_info": {
   "codemirror_mode": {
    "name": "ipython",
    "version": 3
   },
   "file_extension": ".py",
   "mimetype": "text/x-python",
   "name": "python",
   "nbconvert_exporter": "python",
   "pygments_lexer": "ipython3",
   "version": "3.12.2"
  }
 },
 "nbformat": 4,
 "nbformat_minor": 5
}
